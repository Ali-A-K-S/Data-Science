{
 "cells": [
  {
   "cell_type": "markdown",
   "id": "a9cbef1a-0c19-43ed-a8e1-51b16d22dd75",
   "metadata": {},
   "source": [
    "# Data Science Tools and Ecosystem"
   ]
  },
  {
   "cell_type": "markdown",
   "id": "cf0c294f-915c-4578-bd7e-d37901e0b91e",
   "metadata": {
    "tags": []
   },
   "source": [
    "### In this notebook, Data Science Tools and Ecosystem are summarized."
   ]
  },
  {
   "cell_type": "markdown",
   "id": "9edfac6a-bb16-470e-9deb-dd07f84b26e0",
   "metadata": {},
   "source": [
    "#### **Objectives:**\n",
    "* List popular languages for Data Science\n",
    "* List popular libraries for Data Science\n",
    "* List popular tools used in Data Science"
   ]
  },
  {
   "cell_type": "markdown",
   "id": "6b0bf33a-898c-49f1-95b7-2dc7ab7e2835",
   "metadata": {},
   "source": [
    "#### Some of the popular languages that Data Scientists use are:\n",
    "1. Python\n",
    "2. R\n",
    "3. SQL\n",
    "4. Scala\n",
    "5. Java\n",
    "6. C++\n",
    "7. Julia\n"
   ]
  },
  {
   "cell_type": "markdown",
   "id": "f7d15321-ed0a-4144-9804-8e7d8e283fb9",
   "metadata": {},
   "source": [
    "#### Some of the commonly used libraries used by Data Scientists include:\n",
    "1. Pandas\n",
    "2. NumPy\n",
    "3. Scikit-learn\n",
    "4. matplotlib\n",
    "5. SciPy"
   ]
  },
  {
   "cell_type": "markdown",
   "id": "54cbb3f1-a770-49c6-a591-30a79fedb640",
   "metadata": {},
   "source": [
    "|Data Science Tools|\n",
    "|     --------     |\n",
    "|Jupyter Notebooks|\n",
    "|RStudio|\n",
    "|Relational Databases|\n",
    "|NoSQL Databases|\n",
    "| Git|\n",
    "|Data Visualization Tools|"
   ]
  },
  {
   "cell_type": "markdown",
   "id": "a0905cc2-2862-40f9-9ab0-1940475e60ee",
   "metadata": {},
   "source": [
    "### Below are a few examples of evaluating arithmetic expressions in Python"
   ]
  },
  {
   "cell_type": "code",
   "execution_count": 2,
   "id": "4d532521-a429-4ce9-ad20-141b6fa93f66",
   "metadata": {
    "tags": []
   },
   "outputs": [
    {
     "data": {
      "text/plain": [
       "17"
      ]
     },
     "execution_count": 2,
     "metadata": {},
     "output_type": "execute_result"
    }
   ],
   "source": [
    "# This a simple arithmetic expression to mutiply then add integers\n",
    "(3*4)+5"
   ]
  },
  {
   "cell_type": "code",
   "execution_count": 12,
   "id": "d870802f-b456-4f54-adbd-823899e237b3",
   "metadata": {
    "tags": []
   },
   "outputs": [
    {
     "name": "stdout",
     "output_type": "stream",
     "text": [
      "200 minutes = 3.3333333333333335 hours\n"
     ]
    }
   ],
   "source": [
    "# This will convert 200 minutes to hours by diving by 60\n",
    "min = 200\n",
    "print(min,\"minutes =\",min/60,\"hours\")"
   ]
  },
  {
   "cell_type": "markdown",
   "id": "d0ed6681-fa64-4e30-a87b-5e411edcefa7",
   "metadata": {
    "tags": []
   },
   "source": [
    "## Author:\n",
    "name "
   ]
  }
 ],
 "metadata": {
  "kernelspec": {
   "display_name": "Python",
   "language": "python",
   "name": "conda-env-python-py"
  },
  "language_info": {
   "codemirror_mode": {
    "name": "ipython",
    "version": 3
   },
   "file_extension": ".py",
   "mimetype": "text/x-python",
   "name": "python",
   "nbconvert_exporter": "python",
   "pygments_lexer": "ipython3",
   "version": "3.7.12"
  }
 },
 "nbformat": 4,
 "nbformat_minor": 5
}
